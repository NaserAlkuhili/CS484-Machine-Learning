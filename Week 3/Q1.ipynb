{
 "cells": [
  {
   "cell_type": "markdown",
   "metadata": {},
   "source": [
    "<h style=\"font-size:50px; font-weight:bold;\">CS 484: Introduction to Machine Learning</h>\n",
    "<h3 style=\"font-size:25px;\">Naser Alkuhili</h3>\n"
   ]
  },
  {
   "cell_type": "markdown",
   "metadata": {},
   "source": [
    "***\n",
    "<h2 style=\"font-size:40px;color:#2e75b5\">Question 1 (20 points)</h2>\n",
    "\n",
    "#### **I invited six friends to watch a basketball game at home. They brought the following items along.**\n",
    "\n",
    "<img src =\"/Users/nfk/Repos/CS484/Week 3/images/table.png\" style = \"width:650px;height:300px;margin-left: 150px\">\n",
    "\n",
    "#### **I noticed that my friends often brought Cheese, Soda, and Wing together.  Since I prefer to spend on food instead of Soda, I study how likely my friends would bring Soda if they already bought Cheese and Wing.  Therefore, please calculate the Lift of this association rule {Cheese, Wing} ==> {Soda} for me.**\n"
   ]
  },
  {
   "cell_type": "code",
   "execution_count": 3,
   "metadata": {},
   "outputs": [
    {
     "name": "stdout",
     "output_type": "stream",
     "text": [
      "0.75\n"
     ]
    }
   ],
   "source": [
    "\n",
    "cheese_wing_soda_prob = 2/6\n",
    "cheese_wing_prob = 4/6\n",
    "sode_prop =4/6\n",
    "lift = cheese_wing_soda_prob / (cheese_wing_prob * sode_prop)\n",
    "\n",
    "print(lift)"
   ]
  },
  {
   "cell_type": "markdown",
   "metadata": {},
   "source": [
    "***\n",
    "<h2 style=\"font-size:40px;color:#2e75b5\">Question 2 (40 points)</h2>\n",
    "\n",
    "#### **This question walks you through the typical process of discovering association rules.  We will use the market basket data in the Groceries.csv file to discover association rules. Here are the data contents.**\n",
    "\n",
    "* **Customer: Customer Identifier**\n",
    "* **Item: Name of Product Purchased**\n",
    "\n",
    "#### **For your information, we have sorted the observations in ascending order first by Customer and then by Item.  Also, we have removed duplicated items for each customer.**\n",
    "***"
   ]
  },
  {
   "cell_type": "markdown",
   "metadata": {},
   "source": [
    "#### **a) What is the number of items in the Universal Set?  What is the maximum number of itemsets that we can find in theory from the data?  What is the maximum number of association rules that we can generate in theory from the data?**"
   ]
  },
  {
   "cell_type": "code",
   "execution_count": 38,
   "metadata": {},
   "outputs": [],
   "source": [
    "import matplotlib.pyplot as plt\n",
    "import numpy as np\n",
    "import pandas as pd\n",
    "from mlxtend.frequent_patterns import (apriori, association_rules)\n",
    "from mlxtend.preprocessing import TransactionEncoder\n"
   ]
  },
  {
   "cell_type": "code",
   "execution_count": 39,
   "metadata": {},
   "outputs": [
    {
     "name": "stdout",
     "output_type": "stream",
     "text": [
      "the number of items in the Universal Set is 169\n",
      "the maximum number of itemsets is 748288838313422294120286634350736906063837462003711\n",
      "the maximum number of association rules is 430023359390034222082732011946860220634520402626757122001337339969404822623413860\n"
     ]
    }
   ],
   "source": [
    "\n",
    "# Load the data\n",
    "df = pd.read_csv('/Users/nfk/Repos/CS484/Week 3/data/Groceries.csv')\n",
    "\n",
    "num_of_items = len(df['Item'].unique())\n",
    "max_itemsets = (2**num_of_items) - 1\n",
    "maximum_AR = (3**num_of_items)-(2**(num_of_items+1))+1\n",
    "\n",
    "print(f'the number of items in the Universal Set is {num_of_items}')\n",
    "print(f'the maximum number of itemsets is {max_itemsets}')\n",
    "print(f'the maximum number of association rules is {maximum_AR}')\n",
    "\n",
    "\n"
   ]
  },
  {
   "cell_type": "markdown",
   "metadata": {},
   "source": [
    "***\n",
    "#### **b) We are interested in the itemsets that can be found in the market baskets of at least seventy-five (75) customers.  How many itemsets did we find?  Also, what is the largest number of items, i.e., k, among these itemsets?**"
   ]
  },
  {
   "cell_type": "code",
   "execution_count": 98,
   "metadata": {},
   "outputs": [
    {
     "name": "stdout",
     "output_type": "stream",
     "text": [
      "The number of itemsets found in the market baskets of at least seventy-five customers is 524\n",
      "The largest number of items among these itemsets is 4\n"
     ]
    }
   ],
   "source": [
    "# Convert the data to the Item List format, and then to the Item Indicator format\n",
    "item_list = df.groupby(['Customer'])['Item'].apply(list).values.tolist()\n",
    "te = TransactionEncoder()\n",
    "te_ary = te.fit(item_list).transform(item_list)\n",
    "item_indicator = pd.DataFrame(te_ary, columns=te.columns_)\n",
    "nCustomer, nProduct = item_indicator.shape\n",
    "\n",
    "# Find the frequent itemsets\n",
    "lowest_support = 75 / len(df['Customer'].unique())\n",
    "frequent_itemsets = apriori(item_indicator, min_support = lowest_support, use_colnames = True)\n",
    "num_of_itemsets = len(frequent_itemsets)\n",
    "sizes = []\n",
    "for item in frequent_itemsets['itemsets']:\n",
    "    sizes.append(len(item))\n",
    "max_size = max(sizes)\n",
    "print(f'The number of itemsets found in the market baskets of at least seventy-five customers is {num_of_itemsets}')\n",
    "print(f'The largest number of items among these itemsets is {max_size}')"
   ]
  },
  {
   "cell_type": "markdown",
   "metadata": {},
   "source": [
    "***\n",
    "#### **c) We will use up to the largest k value we found in Part (b) and then generate the association rules whose Confidence metrics are greater than or equal to 1%.  How many association rules can we find?  Next, we plot the Support metrics on the vertical axis against the Confidence metrics on the horizontal axis for these association rules.  We will use the Lift metrics to indicate the size of the marker.  We will add a color gradient legend to the chart for the Lift metrics.**"
   ]
  },
  {
   "cell_type": "code",
   "execution_count": 99,
   "metadata": {},
   "outputs": [
    {
     "data": {
      "text/plain": [
       "1228"
      ]
     },
     "execution_count": 99,
     "metadata": {},
     "output_type": "execute_result"
    }
   ],
   "source": [
    "# TODO\n"
   ]
  }
 ],
 "metadata": {
  "kernelspec": {
   "display_name": "Python 3.8.9 64-bit",
   "language": "python",
   "name": "python3"
  },
  "language_info": {
   "codemirror_mode": {
    "name": "ipython",
    "version": 3
   },
   "file_extension": ".py",
   "mimetype": "text/x-python",
   "name": "python",
   "nbconvert_exporter": "python",
   "pygments_lexer": "ipython3",
   "version": "3.8.9"
  },
  "orig_nbformat": 4,
  "vscode": {
   "interpreter": {
    "hash": "31f2aee4e71d21fbe5cf8b01ff0e069b9275f58929596ceb00d14d90e3e16cd6"
   }
  }
 },
 "nbformat": 4,
 "nbformat_minor": 2
}
